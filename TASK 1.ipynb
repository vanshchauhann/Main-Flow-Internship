{
  "nbformat": 4,
  "nbformat_minor": 0,
  "metadata": {
    "colab": {
      "provenance": []
    },
    "kernelspec": {
      "name": "python3",
      "display_name": "Python 3"
    },
    "language_info": {
      "name": "python"
    }
  },
  "cells": [
    {
      "cell_type": "markdown",
      "source": [
        "**DATA ANALYTICS WITH PYTHON**"
      ],
      "metadata": {
        "id": "dKJKUJKEvtVG"
      }
    },
    {
      "cell_type": "markdown",
      "source": [
        "**TASK-1**"
      ],
      "metadata": {
        "id": "Kzq6NuyMwJ7D"
      }
    },
    {
      "cell_type": "markdown",
      "source": [
        "\n",
        "**Description:**\n",
        "This task involves understanding the basic data\n",
        "types in Python such as lists, dictionaries, and\n",
        "sets."
      ],
      "metadata": {
        "id": "yPCcFAfLv3Wl"
      }
    },
    {
      "cell_type": "markdown",
      "source": [
        "**Responsibility:**\n",
        "Write a Python program to create a list, a\n",
        "dictionary, and a set. Perform basic operations\n",
        "like adding, removing, and modifying\n",
        "elements."
      ],
      "metadata": {
        "id": "IJloWOTpwCN7"
      }
    },
    {
      "cell_type": "code",
      "execution_count": 3,
      "metadata": {
        "colab": {
          "base_uri": "https://localhost:8080/"
        },
        "id": "cnYFqDVLvH_7",
        "outputId": "85a8cd00-14ec-4f08-bce8-a7def134c91b"
      },
      "outputs": [
        {
          "output_type": "stream",
          "name": "stdout",
          "text": [
            "[0, 2, 3, 4, 5]\n"
          ]
        }
      ],
      "source": [
        "#basic task like adding removing and modifying list\n",
        "\n",
        "# Create a list\n",
        "my_list = [1, 2, 3, 4, 5]\n",
        "\n",
        "# Add an element to the end of the list\n",
        "my_list.append(6)\n",
        "\n",
        "# Remove the last element from the list\n",
        "my_list.pop()\n",
        "\n",
        "# Modify the first element of the list\n",
        "my_list[0] = 0\n",
        "\n",
        "# Print the modified list\n",
        "print(my_list)\n"
      ]
    },
    {
      "cell_type": "code",
      "source": [
        "# basic task like adding removing and modifying dictionary\n",
        "\n",
        "# Create a dictionary\n",
        "my_dict = {\"name\": \"John\", \"age\": 30, \"city\": \"New York\"}\n",
        "\n",
        "# Add a new key-value pair to the dictionary\n",
        "my_dict[\"profession\"] = \"Software Engineer\"\n",
        "\n",
        "# Remove a key-value pair from the dictionary\n",
        "del my_dict[\"age\"]\n",
        "\n",
        "# Modify the value of an existing key\n",
        "my_dict[\"city\"] = \"London\"\n",
        "\n",
        "# Print the modified dictionary\n",
        "print(my_dict)\n"
      ],
      "metadata": {
        "colab": {
          "base_uri": "https://localhost:8080/"
        },
        "id": "4r-CEoVFwhc7",
        "outputId": "e4dc5dbe-cc47-4baf-f361-dc3a729d6006"
      },
      "execution_count": 2,
      "outputs": [
        {
          "output_type": "stream",
          "name": "stdout",
          "text": [
            "{'name': 'John', 'city': 'London', 'profession': 'Software Engineer'}\n"
          ]
        }
      ]
    },
    {
      "cell_type": "code",
      "source": [
        "#  basic task like adding removing and modifying set\n",
        "\n",
        "# basic task like adding removing and modifying set\n",
        "\n",
        "# Create a set\n",
        "my_set = {1, 2, 3, 4, 5}\n",
        "\n",
        "# Add an element to the set\n",
        "my_set.add(6)\n",
        "\n",
        "# Remove an element from the set\n",
        "my_set.remove(3)\n",
        "\n",
        "# Modify an element in the set (not possible directly)\n",
        "# To modify an element, we need to remove it and add a new one\n",
        "my_set.remove(1)\n",
        "my_set.add(0)\n",
        "\n",
        "# Print the modified set\n",
        "print(my_set)\n"
      ],
      "metadata": {
        "colab": {
          "base_uri": "https://localhost:8080/"
        },
        "id": "pB0wkjpAwhpt",
        "outputId": "e32906af-b424-4f70-de4c-eeccb224ea20"
      },
      "execution_count": 1,
      "outputs": [
        {
          "output_type": "stream",
          "name": "stdout",
          "text": [
            "{0, 2, 4, 5, 6}\n"
          ]
        }
      ]
    }
  ]
}